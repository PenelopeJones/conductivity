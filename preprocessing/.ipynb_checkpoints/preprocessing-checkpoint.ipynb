{
 "cells": [
  {
   "cell_type": "code",
   "execution_count": 1,
   "metadata": {},
   "outputs": [],
   "source": [
    "import numpy as np\n",
    "from scipy.stats import norm, invwishart, multivariate_normal\n",
    "import pdb\n",
    "import sys\n",
    "sys.path.append('../')\n",
    "from sklearn.decomposition import PCA\n",
    "from sklearn.ensemble import RandomForestRegressor\n",
    "import matplotlib.pyplot as plt\n",
    "from collections import Counter\n",
    "\n",
    "from utils.data_util import radial_distance\n",
    "\n",
    "def train_test_split(X, y, test_fraction=0.2, seed=10):\n",
    "    n = X.shape[0]\n",
    "    np.random.seed(seed)\n",
    "    idx = np.random.permutation(n)\n",
    "    idx_te = idx[0:int(test_fraction*n)]\n",
    "    idx_tr = idx[int(test_fraction * n):]\n",
    "    return X[idx_tr, :], y[idx_tr], X[idx_te, :], y[idx_te], idx_tr, idx_te\n",
    "\n",
    "def sample_batch(X, y, batch_size=1000):\n",
    "    idx = np.random.permutation(X.shape[0])[:batch_size]\n",
    "    return X[idx, :], y[idx, :]\n",
    "    "
   ]
  },
  {
   "cell_type": "code",
   "execution_count": 24,
   "metadata": {},
   "outputs": [],
   "source": [
    "import torch\n",
    "import torch.nn as nn\n",
    "import torch.nn.functional as F\n",
    "from torch import optim\n",
    "\n",
    "class VanillaNN(nn.Module):\n",
    "    \"\"\"\n",
    "    A `vanilla` neural network.\n",
    "    \"\"\"\n",
    "\n",
    "    def __init__(self, in_dim, out_dim, hidden_dims, non_linearity=F.relu):\n",
    "        \"\"\"\n",
    "        :param in_dim: (int) Dimensionality of the input.\n",
    "        :param out_dim: (int) Dimensionality of the output.\n",
    "        :param hidden_dims: (list of ints) Architecture of the network.\n",
    "        :param non_linearity: Non-linear activation function to apply after each linear transformation,\n",
    "                                e.g. relu or tanh.\n",
    "        \"\"\"\n",
    "        super().__init__()\n",
    "\n",
    "        self.in_dim = in_dim\n",
    "        self.out_dim = out_dim\n",
    "        self.non_linearity = non_linearity\n",
    "\n",
    "        self.layers = nn.ModuleList()\n",
    "\n",
    "        for dim in range(len(hidden_dims) + 1):\n",
    "            if dim == 0:\n",
    "                self.layers.append(nn.Linear(self.in_dim, hidden_dims[dim]))\n",
    "            elif dim == len(hidden_dims):\n",
    "                self.layers.append(nn.Linear(hidden_dims[-1], self.out_dim))\n",
    "            else:\n",
    "                self.layers.append(nn.Linear(hidden_dims[dim - 1],\n",
    "                                             hidden_dims[dim]))\n",
    "\n",
    "    def forward(self, x):\n",
    "        \"\"\"\n",
    "        :param self:\n",
    "        :param x: (torch tensor, (batch_size, in_dim)) Input to the network.\n",
    "        :return: (torch tensor, (batch_size, out_dim)) Output of the network.\n",
    "        \"\"\"\n",
    "        assert len(x.shape) == 2, 'Input must be of shape [batch_size, in_dim].'\n",
    "\n",
    "        for i in range(len(self.layers) - 1):\n",
    "            x = self.non_linearity(self.layers[i](x))\n",
    "\n",
    "        return self.layers[-1](x)"
   ]
  },
  {
   "cell_type": "code",
   "execution_count": 22,
   "metadata": {},
   "outputs": [],
   "source": []
  },
  {
   "cell_type": "code",
   "execution_count": 20,
   "metadata": {},
   "outputs": [
    {
     "name": "stdout",
     "output_type": "stream",
     "text": [
      "[0.44608405 0.15960095 0.09236076 0.08982867 0.06072294 0.0332407\n",
      " 0.02469062 0.01839673 0.01489847 0.01144262]\n",
      "Counter({4.0: 4373, 3.0: 4359, 5.0: 4130, 2.0: 4086, 6.0: 3829, 7.0: 3522, 8.0: 3140, 1.0: 2970, 9.0: 2867, 10.0: 2609, 11.0: 2363, 12.0: 2116, 13.0: 1865, 14.0: 1710, 15.0: 1517, 16.0: 1368, 17.0: 1218, 18.0: 1074, 19.0: 956, 20.0: 868, 21.0: 770, 0.0: 736, 22.0: 687, 23.0: 625, 24.0: 536, 25.0: 500, 26.0: 447, 27.0: 417, 28.0: 387, 29.0: 344, 30.0: 296, 31.0: 281, 32.0: 236, 33.0: 222, 34.0: 194, 35.0: 177, 36.0: 161, 37.0: 142, 38.0: 124, 39.0: 104, 40.0: 98, 69.0: 94, 41.0: 92, 42.0: 81, 43.0: 70, 44.0: 64, 45.0: 53, 48.0: 43, 47.0: 43, 49.0: 40, 46.0: 40, 50.0: 37, 51.0: 28, 53.0: 21, 54.0: 21, 55.0: 20, 56.0: 17, 52.0: 16, 64.0: 13, 58.0: 12, 66.0: 12, 65.0: 12, 68.0: 12, 63.0: 12, 57.0: 11, 67.0: 11, 61.0: 11, 59.0: 8, 60.0: 8, 62.0: 8})\n"
     ]
    },
    {
     "data": {
      "text/plain": [
       "(array([ 736., 2970., 4086., 4359., 4373., 4130., 3829., 3522., 3140.,\n",
       "        2867., 2609., 2363., 2116., 1865., 1710., 1517., 1368., 1218.,\n",
       "        1074.,  956.,  868.,  770.,  687.,  625.,  536.,  500.,  447.,\n",
       "         417.,  387.,  344.,  296.,  281.,  236.,  222.,  194.,  177.,\n",
       "         161.,  142.,  124.,  104.,   98.,   92.,   81.,   70.,   64.,\n",
       "          53.,   40.,   43.,   43.,   40.,   37.,   28.,   16.,   21.,\n",
       "          21.,   20.,   17.,   11.,   12.,    8.,    8.,   11.,    8.,\n",
       "          12.,   13.,   12.,   12.,   23.]),\n",
       " array([ 0,  1,  2,  3,  4,  5,  6,  7,  8,  9, 10, 11, 12, 13, 14, 15, 16,\n",
       "        17, 18, 19, 20, 21, 22, 23, 24, 25, 26, 27, 28, 29, 30, 31, 32, 33,\n",
       "        34, 35, 36, 37, 38, 39, 40, 41, 42, 43, 44, 45, 46, 47, 48, 49, 50,\n",
       "        51, 52, 53, 54, 55, 56, 57, 58, 59, 60, 61, 62, 63, 64, 65, 66, 67,\n",
       "        68]),\n",
       " <BarContainer object of 68 artists>)"
      ]
     },
     "execution_count": 20,
     "metadata": {},
     "output_type": "execute_result"
    },
    {
     "data": {
      "image/png": "[encoded data removed]",
      "text/plain": [
       "<Figure size 432x288 with 1 Axes>"
      ]
     },
     "metadata": {
      "needs_background": "light"
     },
     "output_type": "display_data"
    }
   ],
   "source": [
    "X = np.load(path + 'X5.npy')\n",
    "y = np.load(path + 'y5.npy')\n",
    "\n",
    "\n",
    "\n",
    "\n",
    "pca = PCA(n_components=10)\n",
    "transformed = pca.fit_transform(X)\n",
    "print(pca.explained_variance_ratio_)\n",
    "\n",
    "\n",
    "\n",
    "recounted = Counter(y)\n",
    "print(recounted)\n",
    "\n",
    "plt.hist(y, bins=np.arange(0, 69, 1))"
   ]
  },
  {
   "cell_type": "code",
   "execution_count": 17,
   "metadata": {},
   "outputs": [
    {
     "ename": "NameError",
     "evalue": "name 'fontsize' is not defined",
     "output_type": "error",
     "traceback": [
      "\u001b[0;31m---------------------------------------------------------------------------\u001b[0m",
      "\u001b[0;31mNameError\u001b[0m                                 Traceback (most recent call last)",
      "\u001b[0;32m<ipython-input-17-4002dad95c77>\u001b[0m in \u001b[0;36m<module>\u001b[0;34m\u001b[0m\n\u001b[1;32m     72\u001b[0m \u001b[0;34m\u001b[0m\u001b[0m\n\u001b[1;32m     73\u001b[0m     \u001b[0max\u001b[0m\u001b[0;34m.\u001b[0m\u001b[0mplot\u001b[0m\u001b[0;34m(\u001b[0m\u001b[0mnp\u001b[0m\u001b[0;34m.\u001b[0m\u001b[0mlinspace\u001b[0m\u001b[0;34m(\u001b[0m\u001b[0;36m0\u001b[0m\u001b[0;34m,\u001b[0m \u001b[0;36m200\u001b[0m\u001b[0;34m,\u001b[0m \u001b[0;36m4\u001b[0m\u001b[0;34m)\u001b[0m\u001b[0;34m,\u001b[0m \u001b[0mnp\u001b[0m\u001b[0;34m.\u001b[0m\u001b[0mlinspace\u001b[0m\u001b[0;34m(\u001b[0m\u001b[0;36m0\u001b[0m\u001b[0;34m,\u001b[0m \u001b[0;36m200\u001b[0m\u001b[0;34m,\u001b[0m \u001b[0;36m4\u001b[0m\u001b[0;34m)\u001b[0m\u001b[0;34m,\u001b[0m \u001b[0;34m'-.'\u001b[0m\u001b[0;34m,\u001b[0m \u001b[0mc\u001b[0m\u001b[0;34m=\u001b[0m\u001b[0;34m'grey'\u001b[0m\u001b[0;34m)\u001b[0m\u001b[0;34m\u001b[0m\u001b[0;34m\u001b[0m\u001b[0m\n\u001b[0;32m---> 74\u001b[0;31m     \u001b[0max\u001b[0m\u001b[0;34m.\u001b[0m\u001b[0mset_xlabel\u001b[0m\u001b[0;34m(\u001b[0m\u001b[0;34m'True'\u001b[0m\u001b[0;34m,\u001b[0m \u001b[0mfontsize\u001b[0m\u001b[0;34m=\u001b[0m\u001b[0mfontsize\u001b[0m\u001b[0;34m)\u001b[0m\u001b[0;34m\u001b[0m\u001b[0;34m\u001b[0m\u001b[0m\n\u001b[0m\u001b[1;32m     75\u001b[0m     \u001b[0max\u001b[0m\u001b[0;34m.\u001b[0m\u001b[0mset_ylabel\u001b[0m\u001b[0;34m(\u001b[0m\u001b[0;34m'Predicted'\u001b[0m\u001b[0;34m,\u001b[0m \u001b[0mfontsize\u001b[0m\u001b[0;34m=\u001b[0m\u001b[0mfontsize\u001b[0m\u001b[0;34m)\u001b[0m\u001b[0;34m\u001b[0m\u001b[0;34m\u001b[0m\u001b[0m\n\u001b[1;32m     76\u001b[0m     \u001b[0max\u001b[0m\u001b[0;34m.\u001b[0m\u001b[0mset_xlim\u001b[0m\u001b[0;34m(\u001b[0m\u001b[0;36m0\u001b[0m\u001b[0;34m,\u001b[0m \u001b[0;36m200\u001b[0m\u001b[0;34m)\u001b[0m\u001b[0;34m\u001b[0m\u001b[0;34m\u001b[0m\u001b[0m\n",
      "\u001b[0;31mNameError\u001b[0m: name 'fontsize' is not defined"
     ]
    },
    {
     "data": {
      "image/png": "[encoded data removed]",
      "text/plain": [
       "<Figure size 504x504 with 1 Axes>"
      ]
     },
     "metadata": {
      "needs_background": "light"
     },
     "output_type": "display_data"
    },
    {
     "data": {
      "image/png": "[encoded data removed]",
      "text/plain": [
       "<Figure size 504x504 with 1 Axes>"
      ]
     },
     "metadata": {
      "needs_background": "light"
     },
     "output_type": "display_data"
    }
   ],
   "source": [
    "\n",
    "\n",
    "n_ensembles = 10\n",
    "\n",
    "seeds = [10, ]\n",
    "start_seed = 1\n",
    "\n",
    "for seed in seeds:\n",
    "    ensemble_states = np.arange(1, n_ensembles + 1, 1)\n",
    "\n",
    "    n = X.shape[0]\n",
    "    np.random.seed(seed)\n",
    "    idx = np.random.permutation(n)\n",
    "\n",
    "    # Approximately 25 `test' cells per split.\n",
    "    n_splits = 10\n",
    "    n_te = n // n_splits + 1\n",
    "\n",
    "    means = []\n",
    "    vars = []\n",
    "    benchmark = []\n",
    "\n",
    "    fig, ax = plt.subplots(1, 1, figsize=(7, 7))\n",
    "    fig1, ax1 = plt.subplots(1, 1, figsize=(7, 7))\n",
    "\n",
    "    # 10-fold cross validation\n",
    "    for k in range(n_splits):\n",
    "        if k == (n_splits-1):\n",
    "            idx_te = idx[k * n_te:]\n",
    "            idx_tr = idx[0:k * n_te]\n",
    "        else:\n",
    "            idx_te = idx[k * n_te: (k + 1) * n_te]\n",
    "            idx_tr = np.delete(idx, np.arange(k * n_te, (k + 1) * n_te))\n",
    "\n",
    "        X_test = X[idx_te, :]\n",
    "        X_train = X[idx_tr, :]\n",
    "        y_test = y[idx_te]\n",
    "        y_train = y[idx_tr]\n",
    "\n",
    "        y_pred_trs = []\n",
    "        y_pred_tes = []\n",
    "\n",
    "        # Random forest model. Different set of random seeds for each train/test split.\n",
    "        states = n_ensembles*ensemble_states + k + start_seed\n",
    "        for ensemble_state in states:\n",
    "            regr = RandomForestRegressor(max_depth=5, random_state=ensemble_state)\n",
    "            regr.fit(X_train, y_train)\n",
    "\n",
    "            # Make predictions\n",
    "            y_pred_tr = regr.predict(X_train)\n",
    "            y_pred_trs.append(y_pred_tr)\n",
    "            y_pred_te = regr.predict(X_test)\n",
    "            y_pred_tes.append(y_pred_te)\n",
    "\n",
    "        y_pred_trs = np.vstack(y_pred_trs)\n",
    "        y_pred_tes = np.vstack(y_pred_tes)\n",
    "        y_pred_tr = np.mean(y_pred_trs, axis=0)\n",
    "        y_pred_tr_err = np.var(y_pred_trs, axis=0)\n",
    "        y_pred_te = np.mean(y_pred_tes, axis=0)\n",
    "        y_pred_te_err = np.var(y_pred_tes, axis=0)\n",
    "\n",
    "        ax.errorbar(y_test, y_pred_te, yerr=np.sqrt(y_pred_te_err), marker='o', linestyle='', capsize=2.0,\n",
    "                    label='Split {}'.format(k + 1))\n",
    "        ax1.errorbar(y_train, y_pred_tr, yerr=np.sqrt(y_pred_tr_err), marker='o', linestyle='', capsize=2.0,\n",
    "                    label='Split {}'.format(k + 1))\n",
    "        means.append(y_pred_te)\n",
    "        vars.append(y_pred_te_err)\n",
    "        benchmark.append(np.mean(y_train) * np.ones(y_pred_te.shape))\n",
    "\n",
    "    ax.plot(np.linspace(0, 200, 4), np.linspace(0, 200, 4), '-.', c='grey')\n",
    "    ax.set_xlabel('True', fontsize=fontsize)\n",
    "    ax.set_ylabel('Predicted', fontsize=fontsize)\n",
    "    ax.set_xlim(0, 200)\n",
    "    ax.set_ylim(0, 200)\n",
    "    ax.legend(fontsize=fontsize, ncol=2)\n",
    "    fig.savefig('figures/predictions/rf{}1.png'.format(N_max), dpi=400)\n",
    "    ax1.plot(np.linspace(0, 200, 4), np.linspace(0, 200, 4), '-.', c='grey')\n",
    "    ax1.set_xlabel('True', fontsize=fontsize)\n",
    "    ax1.set_ylabel('Predicted', fontsize=fontsize)\n",
    "    ax1.set_xlim(0, 200)\n",
    "    ax1.set_ylim(0, 200)\n",
    "    ax1.legend(fontsize=fontsize, ncol=2)\n",
    "    fig1.savefig('rf{}_train2.png'.format(N_max), dpi=400)\n",
    "\n",
    "\n",
    "    means = np.hstack(means)\n",
    "    vars = np.hstack(vars)\n",
    "\n",
    "    benchmark = np.hstack(benchmark)"
   ]
  },
  {
   "cell_type": "code",
   "execution_count": 23,
   "metadata": {},
   "outputs": [],
   "source": [
    "means1 = np.hstack(means)\n",
    "vars1 = np.hstack(vars)\n",
    "\n",
    "benchmark1 = np.hstack(benchmark)"
   ]
  },
  {
   "cell_type": "code",
   "execution_count": 28,
   "metadata": {},
   "outputs": [
    {
     "data": {
      "text/plain": [
       "<matplotlib.collections.PathCollection at 0x12ab874f0>"
      ]
     },
     "execution_count": 28,
     "metadata": {},
     "output_type": "execute_result"
    },
    {
     "data": {
      "image/png": "[encoded data removed]",
      "text/plain": [
       "<Figure size 432x288 with 1 Axes>"
      ]
     },
     "metadata": {
      "needs_background": "light"
     },
     "output_type": "display_data"
    }
   ],
   "source": [
    "plt.scatter(y, means1, s=1)"
   ]
  },
  {
   "cell_type": "code",
   "execution_count": 12,
   "metadata": {},
   "outputs": [
    {
     "name": "stdout",
     "output_type": "stream",
     "text": [
      "[0.42369961 0.21899937 0.10096869 0.06528359 0.05236547 0.0294943\n",
      " 0.02639466 0.01445967 0.01324563 0.01123772]\n",
      "Counter({1.0: 4894, 0.0: 4153, 2.0: 3586, 3.0: 2474, 4.0: 1642, 5.0: 1124, 9.0: 808, 6.0: 774, 7.0: 549, 8.0: 366})\n"
     ]
    }
   ],
   "source": [
    "\n",
    "# i.e. a very skewed distribution of y values..."
   ]
  },
  {
   "cell_type": "code",
   "execution_count": 209,
   "metadata": {},
   "outputs": [
    {
     "data": {
      "text/plain": [
       "(20395,)"
      ]
     },
     "execution_count": 209,
     "metadata": {},
     "output_type": "execute_result"
    }
   ],
   "source": [
    "\n",
    "y.shape"
   ]
  },
  {
   "cell_type": "code",
   "execution_count": 14,
   "metadata": {},
   "outputs": [
    {
     "data": {
      "text/plain": [
       "<matplotlib.collections.PathCollection at 0x12a4651c0>"
      ]
     },
     "execution_count": 14,
     "metadata": {},
     "output_type": "execute_result"
    },
    {
     "data": {
      "image/png": "[encoded data removed]",
      "text/plain": [
       "<Figure size 432x288 with 1 Axes>"
      ]
     },
     "metadata": {
      "needs_background": "light"
     },
     "output_type": "display_data"
    }
   ],
   "source": [
    "\n",
    "plt.scatter(transformed[:, 0], y)"
   ]
  },
  {
   "cell_type": "code",
   "execution_count": 32,
   "metadata": {},
   "outputs": [],
   "source": [
    "X_train, y_train, X_test, y_test, _, _ = train_test_split(X, y)\n",
    "\n",
    "X_train = torch.tensor(X_train, dtype=torch.double)\n",
    "y_train = torch.tensor(y_train, dtype=torch.double).reshape(-1, 1)\n",
    "X_test = torch.tensor(X_test)\n",
    "y_test = torch.tensor(y_test).reshape(-1, 1)\n",
    "\n",
    "model = VanillaNN(in_dim=X_train.shape[1], out_dim=1, hidden_dims=[200, 200])\n",
    "criterion = nn.MSELoss()\n",
    "optimiser = optim.SGD(model.parameters(), lr=0.00001)"
   ]
  },
  {
   "cell_type": "code",
   "execution_count": 33,
   "metadata": {},
   "outputs": [
    {
     "name": "stdout",
     "output_type": "stream",
     "text": [
      "Training loss:  0.4005850219726563\n",
      "Training loss:  0.2730176086425781\n",
      "Training loss:  0.19524652099609374\n",
      "Training loss:  0.19572850036621095\n",
      "Training loss:  0.17930879211425782\n",
      "Training loss:  0.20509246826171876\n",
      "Training loss:  0.19331903076171875\n",
      "Training loss:  0.17662359619140625\n",
      "Training loss:  0.18380673217773438\n",
      "Training loss:  0.18438006591796874\n",
      "Training loss:  0.1899124450683594\n",
      "Training loss:  0.19104676818847657\n",
      "Training loss:  0.19243521118164061\n",
      "Training loss:  0.18609841918945313\n",
      "Training loss:  0.1916364288330078\n",
      "Training loss:  0.17970173645019533\n",
      "Training loss:  0.19793243408203126\n",
      "Training loss:  0.1729359130859375\n",
      "Training loss:  0.1835118408203125\n",
      "Training loss:  0.1797638702392578\n",
      "Training loss:  0.18958578491210937\n",
      "Training loss:  0.18014218139648439\n",
      "Training loss:  0.17666902160644532\n",
      "Training loss:  0.19687362670898437\n",
      "Training loss:  0.18282283020019532\n",
      "Training loss:  0.18960739135742188\n",
      "Training loss:  0.18575184631347658\n",
      "Training loss:  0.18023585510253906\n",
      "Training loss:  0.18348089599609374\n",
      "Training loss:  0.1797711639404297\n"
     ]
    }
   ],
   "source": [
    "epochs = 15000\n",
    "batch_size = 5000\n",
    "print_freq = 500\n",
    "for e in range(epochs):\n",
    "    running_loss = 0\n",
    "    \n",
    "    X_batch, y_batch = sample_batch(X_train, y_train, batch_size)\n",
    "    \n",
    "    # setting gradient to zeros\n",
    "    optimiser.zero_grad()        \n",
    "    output = model(X_batch.float())\n",
    "    loss = criterion(output, y_batch.float())\n",
    "        \n",
    "    # backward propagation\n",
    "    loss.backward()\n",
    "        \n",
    "    # update the gradient to new gradients\n",
    "    optimiser.step()\n",
    "    running_loss += loss.item()\n",
    "    \n",
    "    if e % print_freq == 0:\n",
    "        print(\"Training loss: \", (running_loss/print_freq))\n",
    "        running_loss = 0"
   ]
  },
  {
   "cell_type": "code",
   "execution_count": 35,
   "metadata": {},
   "outputs": [],
   "source": [
    "train_mean = model(X_train.float())\n",
    "test_mean = model(X_test.float())"
   ]
  },
  {
   "cell_type": "code",
   "execution_count": 37,
   "metadata": {},
   "outputs": [
    {
     "data": {
      "text/plain": [
       "<matplotlib.collections.PathCollection at 0x154713400>"
      ]
     },
     "execution_count": 37,
     "metadata": {},
     "output_type": "execute_result"
    },
    {
     "data": {
      "image/png": "[encoded data removed]",
      "text/plain": [
       "<Figure size 432x288 with 1 Axes>"
      ]
     },
     "metadata": {
      "needs_background": "light"
     },
     "output_type": "display_data"
    }
   ],
   "source": [
    "plt.scatter(y_test, test_mean.detach().numpy())"
   ]
  },
  {
   "cell_type": "code",
   "execution_count": 62,
   "metadata": {},
   "outputs": [],
   "source": [
    "from sklearn.ensemble import RandomForestClassifier\n",
    "from sklearn.metrics import confusion_matrix\n",
    "X = np.load('X5.npy')\n",
    "y_reg = np.load('y5.npy')\n",
    "threshold = 3\n",
    "y = np.zeros(y_reg.shape)\n",
    "y[y_reg > threshold] = 1\n",
    "X_train, y_train, X_test, y_test, _, _ = train_test_split(X, y)"
   ]
  },
  {
   "cell_type": "code",
   "execution_count": 71,
   "metadata": {},
   "outputs": [
    {
     "data": {
      "text/plain": [
       "RandomForestClassifier(max_depth=25, random_state=0)"
      ]
     },
     "execution_count": 71,
     "metadata": {},
     "output_type": "execute_result"
    }
   ],
   "source": [
    "clf = RandomForestClassifier(max_depth=25, random_state=0)\n",
    "clf.fit(X_train, y_train)"
   ]
  },
  {
   "cell_type": "code",
   "execution_count": 72,
   "metadata": {},
   "outputs": [],
   "source": [
    "pred_train = clf.predict(X_train)\n",
    "pred_test = clf.predict(X_test)"
   ]
  },
  {
   "cell_type": "code",
   "execution_count": 73,
   "metadata": {},
   "outputs": [
    {
     "data": {
      "text/plain": [
       "array([[12111,     0],\n",
       "       [   61,  4124]])"
      ]
     },
     "execution_count": 73,
     "metadata": {},
     "output_type": "execute_result"
    }
   ],
   "source": [
    "tn, fp, fn, tp = confusion_matrix(y_train, pred_train).ravel()\n",
    "confusion_matrix(y_train, pred_train)"
   ]
  },
  {
   "cell_type": "code",
   "execution_count": 74,
   "metadata": {},
   "outputs": [
    {
     "data": {
      "text/plain": [
       "array([2984,   12, 1074,    4])"
      ]
     },
     "execution_count": 74,
     "metadata": {},
     "output_type": "execute_result"
    }
   ],
   "source": [
    "tn, fp, fn, tp = confusion_matrix(y_test, pred_test).ravel()\n",
    "confusion_matrix(y_test, pred_test).ravel()"
   ]
  },
  {
   "cell_type": "code",
   "execution_count": 52,
   "metadata": {},
   "outputs": [
    {
     "data": {
      "text/plain": [
       "0"
      ]
     },
     "execution_count": 52,
     "metadata": {},
     "output_type": "execute_result"
    }
   ],
   "source": [
    "tp"
   ]
  },
  {
   "cell_type": "code",
   "execution_count": null,
   "metadata": {},
   "outputs": [],
   "source": []
  }
 ],
 "metadata": {
  "kernelspec": {
   "display_name": "Python 3",
   "language": "python",
   "name": "python3"
  },
  "language_info": {
   "codemirror_mode": {
    "name": "ipython",
    "version": 3
   },
   "file_extension": ".py",
   "mimetype": "text/x-python",
   "name": "python",
   "nbconvert_exporter": "python",
   "pygments_lexer": "ipython3",
   "version": "3.8.5"
  }
 },
 "nbformat": 4,
 "nbformat_minor": 4
}
